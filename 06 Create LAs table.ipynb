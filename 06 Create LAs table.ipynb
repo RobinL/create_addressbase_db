{
 "cells": [
  {
   "cell_type": "markdown",
   "metadata": {},
   "source": [
    "This script creates a table called las in the database containing the definition of the local authorities"
   ]
  },
  {
   "cell_type": "code",
   "execution_count": null,
   "metadata": {},
   "outputs": [],
   "source": [
    "# Download the a dataset containing current clipped definitions of local authorities from ONS \n",
    "# This link may expire, but you can get it from here: http://geoportal.statistics.gov.uk/datasets/local-authority-districts-december-2016-full-clipped-boundaries-in-great-britain\n",
    "\n",
    "url = \"https://opendata.arcgis.com/datasets/686603e943f948acaa13fb5d2b0f1275_0.zip?outSR=%7B%22wkid%22%3A27700%2C%22latestWkid%22%3A27700%7D\"\n",
    "\n",
    "from urllib.request import urlopen\n",
    "from zipfile import ZipFile\n",
    "from io import BytesIO\n",
    "\n",
    "response = urlopen(url, timeout = 5)\n",
    "zipfile = ZipFile(BytesIO(response.read()))\n",
    "\n",
    "with zipfile as z:\n",
    "    z.extractall(\"raw/ons/\")"
   ]
  },
  {
   "cell_type": "code",
   "execution_count": null,
   "metadata": {},
   "outputs": [],
   "source": [
    "## Add folder one level up to system path so Python can 'see' the db_connections module\n",
    "import sys\n",
    "sys.path.append('..')"
   ]
  },
  {
   "cell_type": "code",
   "execution_count": null,
   "metadata": {},
   "outputs": [],
   "source": [
    "import os\n",
    "import datetime\n",
    "import subprocess\n",
    "\n",
    "from db_connections.secrets import host, username, dbname\n",
    "\n",
    "psql_template = 'psql -p 5432 --host {} --username {} --dbname {}'\n",
    "psql_command = psql_template.format(host, username, dbname)\n",
    "\n",
    "filename =  \"raw/ons/Local_Authority_Districts_December_2016_Full_Clipped_Boundaries_in_Great_Britain.shp\"\n",
    "tablename = \"ons_las\"\n",
    "\n",
    "bash_command = \"shp2pgsql -I -s 27700 {} {} | {}\".format(filename, tablename, psql_command)\n",
    "\n",
    "\n",
    "process = subprocess.Popen(bash_command, stdout=subprocess.PIPE, shell=True)  \n",
    "output, error = process.communicate()"
   ]
  },
  {
   "cell_type": "code",
   "execution_count": null,
   "metadata": {},
   "outputs": [],
   "source": [
    "# Create indexes. \n",
    "from db_connections.connections import runsql\n",
    "\n",
    "\n",
    "# This isn't really needed because the psql command automatically creates a geographic index.\n",
    "# sql = \"\"\"\n",
    "# CREATE INDEX las_polygon_gix ON ons_las USING GIST (geom);\n",
    "# \"\"\"\n",
    "\n",
    "# runsql(sql)\n",
    "\n",
    "\n",
    "sql = \"\"\"\n",
    "CREATE INDEX las_id_x ON ons_las USING BTREE (lad16cd);\n",
    "\"\"\"\n",
    "runsql(sql)"
   ]
  },
  {
   "cell_type": "code",
   "execution_count": null,
   "metadata": {},
   "outputs": [],
   "source": [
    "import pandas as pd \n",
    "\n",
    "conn = get_conn()\n",
    "pd.read_sql(\"select * from ons_las limit 5\", conn)"
   ]
  },
  {
   "cell_type": "markdown",
   "metadata": {},
   "source": [
    "The ordnance survey version of this data has a bunch of additional useful fields that give further informatino about each local authorty\n",
    "It will be useful to also have a copy of this\n",
    "\n",
    "The data can be obtained [here](https://www.ordnancesurvey.co.uk/opendatadownload/products.html#BDLINE).  Download it to `step1_create_addressbase_db/raw` and unzip"
   ]
  },
  {
   "cell_type": "code",
   "execution_count": null,
   "metadata": {},
   "outputs": [],
   "source": [
    "\n",
    "psql_template = 'psql -p 5432 --host {} --username {} --dbname {}'\n",
    "psql_command = psql_template.format(host, username, dbname)\n",
    "\n",
    "filename =  \"raw/bdline_essh_gb/Data/GB/district_borough_unitary_region.shp\"\n",
    "tablename = \"os_las\"\n",
    "\n",
    "bash_command = \"shp2pgsql -I -s 27700 {} {} | {}\".format(filename, tablename, psql_command)\n",
    "\n",
    "\n",
    "process = subprocess.Popen(bash_command, stdout=subprocess.PIPE, shell=True)  \n",
    "output, error = process.communicate()\n",
    "\n",
    "\n"
   ]
  },
  {
   "cell_type": "code",
   "execution_count": null,
   "metadata": {},
   "outputs": [],
   "source": [
    "\n"
   ]
  },
  {
   "cell_type": "code",
   "execution_count": null,
   "metadata": {},
   "outputs": [],
   "source": []
  }
 ],
 "metadata": {
  "kernelspec": {
   "display_name": "Python 3",
   "language": "python",
   "name": "python3"
  },
  "language_info": {
   "codemirror_mode": {
    "name": "ipython",
    "version": 3
   },
   "file_extension": ".py",
   "mimetype": "text/x-python",
   "name": "python",
   "nbconvert_exporter": "python",
   "pygments_lexer": "ipython3",
   "version": "3.6.1"
  }
 },
 "nbformat": 4,
 "nbformat_minor": 2
}
