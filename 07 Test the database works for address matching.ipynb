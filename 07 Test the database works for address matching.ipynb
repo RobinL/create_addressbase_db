{
 "cells": [
  {
   "cell_type": "code",
   "execution_count": null,
   "metadata": {},
   "outputs": [],
   "source": [
    "## Add folder one level up to system path so Python can 'see' the db_connections module\n",
    "import sys\n",
    "sys.path.append('..')\n",
    "\n",
    "from address_matcher import Matcher, Address\n",
    "from data_getters.abp import DataGetter_ABP, DataGetter_ABP_In_Borough\n",
    "\n",
    "from db_connections.secrets import host, dbname, password, username\n",
    "\n",
    "from db_connections.connections import get_freq_conn\n",
    "from db_connections.connections import get_data_conn\n",
    "\n",
    "freq_conn =  get_freq_conn()\n",
    "data_conn = get_data_conn()\n"
   ]
  },
  {
   "cell_type": "code",
   "execution_count": null,
   "metadata": {},
   "outputs": [],
   "source": [
    "data_getter_abp = DataGetter_ABP(freq_conn=freq_conn, data_conn=data_conn, SEARCH_INTENSITY=500, MAX_RESULTS=1000)"
   ]
  },
  {
   "cell_type": "code",
   "execution_count": null,
   "metadata": {},
   "outputs": [],
   "source": [
    "def get_matches(address_string, dg):\n",
    "    address = Address(address_string, data_getter=dg)\n",
    "    matcher_abp = Matcher(dg,address)\n",
    "    matcher_abp.load_potential_matches()\n",
    "    matcher_abp.find_match()\n",
    "    return matcher_abp"
   ]
  },
  {
   "cell_type": "code",
   "execution_count": null,
   "metadata": {},
   "outputs": [],
   "source": [
    "import logging\n",
    "logging.root.setLevel(\"DEBUG\")\n",
    "matcher = get_matches(\"12 courtland road wellington\", data_getter_abp)"
   ]
  },
  {
   "cell_type": "code",
   "execution_count": null,
   "metadata": {},
   "outputs": [],
   "source": [
    "address = \"24 CAMBRIDGE HEATH ROAD LONDON E1 5QH\"\n",
    "matcher = get_matches(address, data_getter_abp)"
   ]
  },
  {
   "cell_type": "code",
   "execution_count": null,
   "metadata": {},
   "outputs": [],
   "source": [
    "import pandas as pd\n",
    "pd.read_sql(\"select * from all_addresses where uprn = 6017543\", data_conn)"
   ]
  },
  {
   "cell_type": "code",
   "execution_count": null,
   "metadata": {},
   "outputs": [],
   "source": []
  }
 ],
 "metadata": {
  "kernelspec": {
   "display_name": "Python 3",
   "language": "python",
   "name": "python3"
  },
  "language_info": {
   "codemirror_mode": {
    "name": "ipython",
    "version": 3
   },
   "file_extension": ".py",
   "mimetype": "text/x-python",
   "name": "python",
   "nbconvert_exporter": "python",
   "pygments_lexer": "ipython3",
   "version": "3.6.1"
  }
 },
 "nbformat": 4,
 "nbformat_minor": 2
}
