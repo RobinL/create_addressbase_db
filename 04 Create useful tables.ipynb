{
 "cells": [
  {
   "cell_type": "code",
   "execution_count": null,
   "metadata": {},
   "outputs": [],
   "source": [
    "## Add folder one level up to system path so Python can 'see' the db_connections module\n",
    "import sys\n",
    "sys.path.append('..')\n",
    "from db_connections.connections import runsql, get_conn"
   ]
  },
  {
   "cell_type": "code",
   "execution_count": null,
   "metadata": {},
   "outputs": [],
   "source": [
    "with open(\"sql/create_useful_table.sql\") as f:\n",
    "    sql = \" \".join(f.readlines())\n",
    "sql_statements = sql.split(\";\")\n",
    "sql_statements = [s for s in sql_statements if len(s.strip()) != 0]"
   ]
  },
  {
   "cell_type": "code",
   "execution_count": null,
   "metadata": {},
   "outputs": [],
   "source": [
    "import traceback\n",
    "import sys\n",
    "\n",
    "for sql in sql_statements:\n",
    "    try:\n",
    "        print(\"---\")\n",
    "        print(sql)\n",
    "        runsql(sql)\n",
    "    except Exception:\n",
    "        print(traceback.format_exc())"
   ]
  },
  {
   "cell_type": "code",
   "execution_count": null,
   "metadata": {},
   "outputs": [],
   "source": []
  }
 ],
 "metadata": {
  "kernelspec": {
   "display_name": "Python 3",
   "language": "python",
   "name": "python3"
  },
  "language_info": {
   "codemirror_mode": {
    "name": "ipython",
    "version": 3
   },
   "file_extension": ".py",
   "mimetype": "text/x-python",
   "name": "python",
   "nbconvert_exporter": "python",
   "pygments_lexer": "ipython3",
   "version": "3.6.1"
  }
 },
 "nbformat": 4,
 "nbformat_minor": 2
}
