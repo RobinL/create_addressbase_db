{
 "cells": [
  {
   "cell_type": "markdown",
   "metadata": {},
   "source": [
    "Add indexes, constraints and various other bits and pieces to the tables.  This will dramatically increase the performance of the database"
   ]
  },
  {
   "cell_type": "markdown",
   "metadata": {},
   "source": [
    "These indexing statements take a __very__ long time, partly because postgres runs them single threaded. \n",
    "\n",
    "Note that I tried to  parallelise them by breaking them out by the table they're operating on and running concurrently, but it causes database lock ups so in the end I just ran them serially"
   ]
  },
  {
   "cell_type": "code",
   "execution_count": null,
   "metadata": {},
   "outputs": [],
   "source": [
    "## Add folder one level up to system path so Python can 'see' the db_connections module\n",
    "import sys\n",
    "sys.path.append('..')\n",
    "from db_connections.connections import runsql, get_conn"
   ]
  },
  {
   "cell_type": "code",
   "execution_count": null,
   "metadata": {},
   "outputs": [],
   "source": [
    "with open(\"sql/index_abp_tables.sql\") as f:\n",
    "    sql = \" \".join(f.readlines())\n",
    "sql_statements = sql.split(\";\")\n",
    "sql_statements = [s for s in sql_statements if len(s.strip()) != 0]"
   ]
  },
  {
   "cell_type": "code",
   "execution_count": null,
   "metadata": {},
   "outputs": [],
   "source": [
    "import traceback\n",
    "import sys\n",
    "\n",
    "for sql in sql_statements:\n",
    "    try:\n",
    "        print(\"---\")\n",
    "        print(sql)\n",
    "        runsql(sql)\n",
    "    except Exception:\n",
    "        print(traceback.format_exc())\n",
    "        break"
   ]
  },
  {
   "cell_type": "code",
   "execution_count": null,
   "metadata": {},
   "outputs": [],
   "source": [
    "# What follows is the code to parallelise the above, but I ran into problems with it\n",
    "\n",
    "\n",
    "# with open(\"sql/index_abp_tables.sql\") as f:\n",
    "#     sql = \" \".join(f.readlines())\n",
    "# sql_statements = sql.split(\"----\")\n",
    "# sql_statements = [s for s in sql_statements if len(s.strip()) != 0]\n",
    "# sql_statements = [s.split('\\n', 1)[1] for s in sql_statements]"
   ]
  },
  {
   "cell_type": "code",
   "execution_count": null,
   "metadata": {},
   "outputs": [],
   "source": [
    "# THIS WAS AN ATTEMPT TO MAKE IT RUN FASTER, BUT SEEMS TO LOCK THE DATABASE\n",
    "# import queue\n",
    "# import threading\n",
    "# import traceback\n",
    "# import sys\n",
    "# import datetime \n",
    "\n",
    "# def begin_query(sql):\n",
    "    \n",
    "#     conn = get_conn()\n",
    "#     with conn:\n",
    "#         try:\n",
    "#             print(\"---------\")\n",
    "#             print(sql)\n",
    "#             print(datetime.datetime.now().time())\n",
    "#             cur = conn.cursor()\n",
    "#             with cur:\n",
    "#                 cur.execute(sql)\n",
    "#         except Exception:\n",
    "#             print(traceback.format_exc())\n",
    "#         print(\"---------\")\n",
    "            \n",
    "\n",
    "# def worker():\n",
    "#     while True:\n",
    "#         item = q.get()\n",
    "        \n",
    "#         begin_query(item)\n",
    "#         q.task_done()\n",
    "\n",
    "# q = queue.Queue()\n",
    "# num_worker_threads = 4\n",
    "# for i in range(num_worker_threads):\n",
    "#      t = threading.Thread(target=worker)\n",
    "#      t.daemon = True\n",
    "#      t.start()\n",
    "\n",
    "# for item in sql_statements:\n",
    "#     q.put(item)\n",
    "    \n",
    "# print(datetime.datetime.now().time())\n",
    "# q.join()       # block until all tasks are done\n",
    "# print(datetime.datetime.now().time())"
   ]
  },
  {
   "cell_type": "code",
   "execution_count": null,
   "metadata": {},
   "outputs": [],
   "source": []
  }
 ],
 "metadata": {
  "kernelspec": {
   "display_name": "Python 3",
   "language": "python",
   "name": "python3"
  },
  "language_info": {
   "codemirror_mode": {
    "name": "ipython",
    "version": 3
   },
   "file_extension": ".py",
   "mimetype": "text/x-python",
   "name": "python",
   "nbconvert_exporter": "python",
   "pygments_lexer": "ipython3",
   "version": "3.6.1"
  }
 },
 "nbformat": 4,
 "nbformat_minor": 2
}
