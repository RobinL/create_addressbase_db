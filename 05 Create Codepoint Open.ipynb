{
 "cells": [
  {
   "cell_type": "code",
   "execution_count": null,
   "metadata": {},
   "outputs": [],
   "source": [
    "import pandas as pd\n",
    "codepoint_dir = r\"raw/codepo_gb\"\n",
    "\n",
    "# Get column names\n",
    "column_headers_df = pd.read_csv(\"raw/codepo_gb/Doc/Code-Point_Open_Column_Headers.csv\")\n",
    "headers = column_headers_df.loc[0]\n",
    "headers = [h.lower() for h in list(headers)]"
   ]
  },
  {
   "cell_type": "code",
   "execution_count": null,
   "metadata": {},
   "outputs": [],
   "source": [
    "# Iterate through the CSVs in codepoint open concatenating them together into one big table\n",
    "import os \n",
    "files = os.listdir(os.path.join(codepoint_dir,\"Data/CSV\"))\n",
    "\n",
    "dfs = []\n",
    "for f in files:\n",
    "    this_file = os.path.join(codepoint_dir,\"Data/CSV\", f)\n",
    "    if \".csv\" in this_file:\n",
    "        this_df = pd.read_csv(this_file, header=None)\n",
    "        dfs.append(this_df)"
   ]
  },
  {
   "cell_type": "code",
   "execution_count": null,
   "metadata": {},
   "outputs": [],
   "source": [
    "final_df = pd.concat(dfs)\n",
    "final_df.columns = headers"
   ]
  },
  {
   "cell_type": "code",
   "execution_count": null,
   "metadata": {},
   "outputs": [],
   "source": [
    "len(final_df)"
   ]
  },
  {
   "cell_type": "code",
   "execution_count": null,
   "metadata": {},
   "outputs": [],
   "source": [
    "import sys\n",
    "sys.path.append('..')\n",
    "\n",
    "from db_connections.connections import get_engine\n",
    "engine = get_engine()"
   ]
  },
  {
   "cell_type": "code",
   "execution_count": null,
   "metadata": {},
   "outputs": [],
   "source": [
    "final_df.to_csv(\"all_postcodes.csv\", index=False)"
   ]
  },
  {
   "cell_type": "code",
   "execution_count": null,
   "metadata": {},
   "outputs": [],
   "source": [
    "sql = \"\"\"\n",
    "drop table all_postcodes;\n",
    "CREATE TABLE all_postcodes\n",
    "(\n",
    "  postcode text,\n",
    "  positional_quality_indicator bigint,\n",
    "  eastings bigint,\n",
    "  northings bigint,\n",
    "  country_code text,\n",
    "  nhs_regional_ha_code text,\n",
    "  nhs_ha_code text,\n",
    "  admin_county_code text,\n",
    "  admin_district_code text,\n",
    "  admin_ward_code text\n",
    ");\n",
    "\"\"\"\n",
    "from db_connections.connections import get_conn\n",
    "conn = get_conn()\n",
    "cur = conn.cursor()\n",
    "with conn:\n",
    "    with cur:\n",
    "        cur.execute(sql)\n",
    "    "
   ]
  },
  {
   "cell_type": "code",
   "execution_count": null,
   "metadata": {},
   "outputs": [],
   "source": [
    "import os\n",
    "import datetime\n",
    "import subprocess\n",
    "from db_connections.connections import host, username, dbname\n",
    "\n",
    "command = \"\\copy all_postcodes FROM 'all_postcodes.csv' DELIMITER ',' CSV HEADER\"\n",
    "psql_template = 'psql -p 5432 --host {} --username {} --dbname {} --command \"{}\"'\n",
    "bash_command = psql_template.format(host, username, dbname, command.strip())\n",
    "\n",
    "\n",
    "process = subprocess.Popen(bash_command, stdout=subprocess.PIPE, shell=True) \n",
    "\n",
    "output, error = process.communicate()\n",
    " "
   ]
  },
  {
   "cell_type": "code",
   "execution_count": null,
   "metadata": {},
   "outputs": [],
   "source": [
    "# Create geometry column for the points including a spatial index for efficient querying\n",
    "sql = \"\"\"\n",
    "SELECT AddGeometryColumn ('all_postcodes', 'geom', 27700, 'POINT', 2);\n",
    "UPDATE all_postcodes SET geom = ST_GeomFromText('POINT(' || eastings || ' ' || northings || ')', 27700 );\n",
    "CREATE INDEX idx_geom_all_postcodes ON all_postcodes USING gist(geom);\n",
    "\"\"\"\n",
    "\n",
    "conn = get_conn()\n",
    "cur = conn.cursor()\n",
    "with conn:\n",
    "    with cur:\n",
    "        cur.execute(sql)\n",
    "    "
   ]
  },
  {
   "cell_type": "code",
   "execution_count": null,
   "metadata": {},
   "outputs": [],
   "source": [
    "sql = \"\"\"\n",
    "ALTER TABLE all_postcodes ADD lat float, ADD lng float;\n",
    "\n",
    "UPDATE all_postcodes SET\n",
    "    lng = ST_X(ST_TRANSFORM(geom, 4326)),\n",
    "    lat = ST_Y(ST_TRANSFORM(geom,4326));\n",
    "\n",
    "\"\"\" \n",
    "conn = get_conn()\n",
    "cur = conn.cursor()\n",
    "with conn:\n",
    "    with cur:\n",
    "        cur.execute(sql)\n",
    "    "
   ]
  },
  {
   "cell_type": "code",
   "execution_count": null,
   "metadata": {},
   "outputs": [],
   "source": [
    "\n",
    "sql = \"\"\"\n",
    "CREATE INDEX idx_all_postcodes_postcode\n",
    "  ON all_postcodes\n",
    "  USING btree\n",
    "  (postcode);\n",
    "\n",
    "\"\"\" \n",
    "conn = get_conn()\n",
    "cur = conn.cursor()\n",
    "with conn:\n",
    "    with cur:\n",
    "        cur.execute(sql)"
   ]
  },
  {
   "cell_type": "code",
   "execution_count": null,
   "metadata": {},
   "outputs": [],
   "source": []
  }
 ],
 "metadata": {
  "kernelspec": {
   "display_name": "Python 3",
   "language": "python",
   "name": "python3"
  },
  "language_info": {
   "codemirror_mode": {
    "name": "ipython",
    "version": 3
   },
   "file_extension": ".py",
   "mimetype": "text/x-python",
   "name": "python",
   "nbconvert_exporter": "python",
   "pygments_lexer": "ipython3",
   "version": "3.6.1"
  }
 },
 "nbformat": 4,
 "nbformat_minor": 2
}
