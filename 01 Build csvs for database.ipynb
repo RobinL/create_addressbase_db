{
 "cells": [
  {
   "cell_type": "markdown",
   "metadata": {},
   "source": [
    "### NOTE:  It is an extremely good idea to run the entire build process using a small subset of files in raw/outdata to test everything works before doing it on the whole database"
   ]
  },
  {
   "cell_type": "markdown",
   "metadata": {},
   "source": [
    "This follows the guidance Ordnance Survey provide [here](https://www.ordnancesurvey.co.uk/docs/user-guides/addressbase-products-getting-started-guide.pdf), and we use the Python scripts provided by Ordnance Survey [here](https://s3-eu-west-1.amazonaws.com/osproducts/AddressBase/AddressBase_Scripts.zip)"
   ]
  },
  {
   "cell_type": "markdown",
   "metadata": {},
   "source": [
    "Download and extract the scripts from OS"
   ]
  },
  {
   "cell_type": "code",
   "execution_count": null,
   "metadata": {},
   "outputs": [],
   "source": [
    "from urllib.request import urlopen\n",
    "from zipfile import ZipFile\n",
    "from io import BytesIO\n",
    "\n",
    "link = \"https://s3-eu-west-1.amazonaws.com/osproducts/AddressBase/AddressBase_Scripts.zip\"\n",
    "response = urlopen(link, timeout = 5)\n",
    "zipfile = ZipFile(BytesIO(response.read()))\n",
    "with zipfile as z:\n",
    "    z.extractall(\"AddressBase_Scripts/\")\n",
    "    \n",
    "# Put the recordsplitter script in the same folder as the AddressBase csvs\n",
    "import os \n",
    "os.rename(\"AddressBase_Scripts/Code/AddressBasePremium_RecordSplitter.py\", \"raw/AddressBasePremium_RecordSplitter.py\")"
   ]
  },
  {
   "cell_type": "markdown",
   "metadata": {},
   "source": [
    "The script provdided by Ordnance Survey is in Python 2, so use the 2to3 commandline tool to convert to a Python 3 script"
   ]
  },
  {
   "cell_type": "code",
   "execution_count": null,
   "metadata": {},
   "outputs": [],
   "source": [
    "%%bash \n",
    "2to3 -w raw/AddressBasePremium_RecordSplitter.py >/dev/null"
   ]
  },
  {
   "cell_type": "code",
   "execution_count": null,
   "metadata": {},
   "outputs": [],
   "source": [
    "import os \n",
    "os.chdir(\"raw\")"
   ]
  },
  {
   "cell_type": "markdown",
   "metadata": {},
   "source": [
    "Enter \"outdata\" (including the \"\") at the prompt"
   ]
  },
  {
   "cell_type": "code",
   "execution_count": null,
   "metadata": {},
   "outputs": [],
   "source": [
    "%run AddressBasePremium_RecordSplitter.py"
   ]
  },
  {
   "cell_type": "markdown",
   "metadata": {},
   "source": [
    "The [guide](https://www.ordnancesurvey.co.uk/docs/user-guides/addressbase-products-getting-started-guide.pdf) says\n",
    "\n",
    "> Check that there are no carriage returns at the end of each .csv output file as this will result in errors being\n",
    "caused.\n",
    "\n",
    "The following script just double checks this"
   ]
  },
  {
   "cell_type": "code",
   "execution_count": null,
   "metadata": {},
   "outputs": [],
   "source": [
    "files_list = [ r'ID10_Header_Records.csv',\n",
    " r'ID11_Street_Records.csv',\n",
    " r'ID15_StreetDesc_Records.csv',\n",
    " r'ID21_BLPU_Records.csv',\n",
    " r'ID23_XREF_Records.csv',\n",
    " r'ID24_LPI_Records.csv',\n",
    " r'ID28_DPA_Records.csv',\n",
    " r'ID29_Metadata_Records.csv',\n",
    " r'ID30_Successor_Records.csv',\n",
    " r'ID31_Org_Records.csv',\n",
    " r'ID32_Class_Records.csv',\n",
    " r'ID99_Trailer_Records.csv']\n",
    "\n",
    "\n",
    "\n",
    "for fname_str in files_list:\n",
    "    \n",
    "    fname_path = fname_str\n",
    "    with open(fname_str,\"r+b\") as my_file:\n",
    "        print(\"processing {}\".format(fname_path))\n",
    "\n",
    "        #Move the pointer (similar to a cursor in a text editor) to the end of the file. \n",
    "        my_file.seek(0, os.SEEK_END) \n",
    "\n",
    "        #The end of the file is the position after the final char - this goes to before the final char\n",
    "        pos = my_file.tell() -1\n",
    "        my_file.seek(pos, os.SEEK_SET)\n",
    "\n",
    "        last_char = my_file.read(1) \n",
    "        if last_char == \"\\n\": \n",
    "            my_file.seek(pos, os.SEEK_SET)\n",
    "            my_file.truncate()\n",
    "        if last_char == \"\\r\": \n",
    "            my_file.seek(pos, os.SEEK_SET)\n",
    "            my_file.truncate()\n",
    "\n",
    "        #Move the pointer (similar to a cursor in a text editor) to the end of the file. \n",
    "        my_file.seek(0, os.SEEK_END) \n",
    "\n",
    "        #The end of the file is the position after the final char - this goes to before the final char\n",
    "        pos = my_file.tell() -1\n",
    "        my_file.seek(pos, os.SEEK_SET)\n",
    "\n",
    "        last_char = my_file.read(1) \n",
    "        if last_char == \"\\n\": \n",
    "            my_file.seek(pos, os.SEEK_SET)\n",
    "            my_file.truncate()\n",
    "        if last_char == \"\\r\": \n",
    "            my_file.seek(pos, os.SEEK_SET)\n",
    "            my_file.truncate()\n",
    "\n"
   ]
  },
  {
   "cell_type": "markdown",
   "metadata": {},
   "source": [
    "We now have a bunch of csv files which are ready to be put into the database.  Each file corresponds to one table in the AddressBase Premium database."
   ]
  }
 ],
 "metadata": {
  "kernelspec": {
   "display_name": "Python 3",
   "language": "python",
   "name": "python3"
  },
  "language_info": {
   "codemirror_mode": {
    "name": "ipython",
    "version": 3
   },
   "file_extension": ".py",
   "mimetype": "text/x-python",
   "name": "python",
   "nbconvert_exporter": "python",
   "pygments_lexer": "ipython3",
   "version": "3.6.1"
  }
 },
 "nbformat": 4,
 "nbformat_minor": 2
}
